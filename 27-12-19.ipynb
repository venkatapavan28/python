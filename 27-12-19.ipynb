{
 "cells": [
  {
   "cell_type": "code",
   "execution_count": 45,
   "metadata": {},
   "outputs": [
    {
     "name": "stdout",
     "output_type": "stream",
     "text": [
      "['gitam', 123, 124]\n",
      "123\n",
      "[124]\n",
      "[124]\n",
      "124\n",
      "['gitam', 123]\n",
      "[124, 123, 'gitam']\n",
      "[124, 123, 'gitam']\n"
     ]
    }
   ],
   "source": [
    "li=[\"gitam\",123,124]\n",
    "print(li)\n",
    "print(li[1])\n",
    "print(li[2:])\n",
    "print(li[2:4])\n",
    "print(li[-1])\n",
    "print(li[-4:-1])\n",
    "print(li[::-1])\n",
    "print(li[-1::-1])"
   ]
  },
  {
   "cell_type": "code",
   "execution_count": 2,
   "metadata": {},
   "outputs": [
    {
     "name": "stdout",
     "output_type": "stream",
     "text": [
      "['kalyan', 123, 124]\n"
     ]
    }
   ],
   "source": [
    "li[0]=\"kalyan\"\n",
    "print(li)"
   ]
  },
  {
   "cell_type": "markdown",
   "metadata": {},
   "source": [
    "del li[2]\n",
    "print(li)"
   ]
  },
  {
   "cell_type": "code",
   "execution_count": 4,
   "metadata": {},
   "outputs": [
    {
     "name": "stdout",
     "output_type": "stream",
     "text": [
      "2\n"
     ]
    }
   ],
   "source": [
    "print(len(li))"
   ]
  },
  {
   "cell_type": "code",
   "execution_count": 6,
   "metadata": {},
   "outputs": [
    {
     "name": "stdout",
     "output_type": "stream",
     "text": [
      "['kalyan', 123, 'kalyan', 123]\n",
      "False\n",
      "True\n"
     ]
    }
   ],
   "source": [
    "print(li*2)\n",
    "print(5 in li)\n",
    "print(123 in li)"
   ]
  },
  {
   "cell_type": "markdown",
   "metadata": {},
   "source": [
    "# basic list functions\n"
   ]
  },
  {
   "cell_type": "code",
   "execution_count": 12,
   "metadata": {},
   "outputs": [
    {
     "name": "stdout",
     "output_type": "stream",
     "text": [
      "5\n",
      "1\n",
      "15\n",
      "3.0\n"
     ]
    }
   ],
   "source": [
    "li=[1,2,3,4,5]\n",
    "print(max(li))\n",
    "print(min(li))\n",
    "print(sum(li))\n",
    "print(sum(li)/len(li))\n"
   ]
  },
  {
   "cell_type": "code",
   "execution_count": 18,
   "metadata": {},
   "outputs": [
    {
     "name": "stdout",
     "output_type": "stream",
     "text": [
      "[1, 2, 3, 4, 5, 6, 7]\n"
     ]
    }
   ],
   "source": [
    "li=[1,2,3,4,5]\n",
    "li.append(6)\n",
    "li.insert(7,7)\n",
    "print(li)"
   ]
  },
  {
   "cell_type": "code",
   "execution_count": 21,
   "metadata": {},
   "outputs": [
    {
     "name": "stdout",
     "output_type": "stream",
     "text": [
      "[1, 3, 12, 44, 67, 222]\n",
      "[1, 3, 12, 44, 67]\n",
      "[1, 3, 44, 67]\n"
     ]
    }
   ],
   "source": [
    "li=[1,222,44,67,12,3]\n",
    "li.sort()\n",
    "print(li)\n",
    "li.pop()\n",
    "print(li)\n",
    "li.pop(2)\n",
    "print(li)"
   ]
  },
  {
   "cell_type": "code",
   "execution_count": 23,
   "metadata": {},
   "outputs": [
    {
     "data": {
      "text/plain": [
       "67"
      ]
     },
     "execution_count": 23,
     "metadata": {},
     "output_type": "execute_result"
    }
   ],
   "source": [
    "#function to return large numbers from list\n",
    "def large(li):\n",
    "    li.sort()\n",
    "    return li[-1]\n",
    "large(li)"
   ]
  },
  {
   "cell_type": "code",
   "execution_count": 25,
   "metadata": {},
   "outputs": [
    {
     "data": {
      "text/plain": [
       "66"
      ]
     },
     "execution_count": 25,
     "metadata": {},
     "output_type": "execute_result"
    }
   ],
   "source": [
    "def genericlarge(li,n):\n",
    "    li=[23,12,14,100,4,333,66]\n",
    "    li.sort()\n",
    "    return li[-n]\n",
    "genericlarge(li,3)"
   ]
  },
  {
   "cell_type": "code",
   "execution_count": 28,
   "metadata": {},
   "outputs": [
    {
     "data": {
      "text/plain": [
       "4"
      ]
     },
     "execution_count": 28,
     "metadata": {},
     "output_type": "execute_result"
    }
   ],
   "source": [
    "def small(li):\n",
    "    li=[23,12,14,100,4,333,66]\n",
    "    li.sort()\n",
    "    return li[0]\n",
    "small(li)"
   ]
  },
  {
   "cell_type": "code",
   "execution_count": 41,
   "metadata": {},
   "outputs": [
    {
     "name": "stdout",
     "output_type": "stream",
     "text": [
      "[1, 3, 44, 67]\n"
     ]
    },
    {
     "data": {
      "text/plain": [
       "3"
      ]
     },
     "execution_count": 41,
     "metadata": {},
     "output_type": "execute_result"
    }
   ],
   "source": [
    "def genericsmall(li,n):\n",
    "    li.sort()\n",
    "    print(li)\n",
    "    return li[n-1]\n",
    "genericsmall(li,2)"
   ]
  },
  {
   "cell_type": "markdown",
   "metadata": {},
   "source": [
    "# Tuples\n"
   ]
  },
  {
   "cell_type": "markdown",
   "metadata": {},
   "source": [
    "- values seperated by comma enclosed by parenthesis()\n",
    "- values can't be changed i.e immutable\n",
    "# Difference b/w list and tuple\n",
    "\n",
    "- list can be modified\n",
    "- list used to access means modify,add,delete,update\n",
    "- tuple cant be modified\n",
    "- used to access data only"
   ]
  },
  {
   "cell_type": "code",
   "execution_count": 42,
   "metadata": {},
   "outputs": [
    {
     "name": "stdout",
     "output_type": "stream",
     "text": [
      "(1, 2, 3, 4, 5)\n",
      "<class 'tuple'>\n"
     ]
    }
   ],
   "source": [
    "t1=(1,2,3,4,5)\n",
    "print(t1)\n",
    "print(type(t1))"
   ]
  },
  {
   "cell_type": "markdown",
   "metadata": {},
   "source": [
    "# Dictionaries:\n",
    "- works on concept of set unique data\n",
    "- dictionarycontains keys and values\n",
    "- each key is separated from its values with colons ' : '\n",
    "- each key and values seperated by comma , \n",
    "- dictionary enclosed by { }"
   ]
  },
  {
   "cell_type": "code",
   "execution_count": 46,
   "metadata": {},
   "outputs": [
    {
     "data": {
      "text/plain": [
       "{'name': 'kalyan', 'email': 'kalyan@gmail.com', 'address': 'adoni'}"
      ]
     },
     "execution_count": 46,
     "metadata": {},
     "output_type": "execute_result"
    }
   ],
   "source": [
    "d1={\"name\":\"kalyan\",\"email\":\"kalyan@gmail.com\",\"address\":\"adoni\"}\n",
    "d1"
   ]
  },
  {
   "cell_type": "code",
   "execution_count": 48,
   "metadata": {},
   "outputs": [
    {
     "data": {
      "text/plain": [
       "{'name': 'kalyan', 'email': 'shiva@gmail.com', 'address': 'adoni'}"
      ]
     },
     "execution_count": 48,
     "metadata": {},
     "output_type": "execute_result"
    }
   ],
   "source": [
    "d1[\"name\"]\n",
    "d1={\"name\":\"kalyan\",\"email\":\"kalyan@gmail.com\",\"address\":\"adoni\"}\n",
    "d1[\"email\"]=\"shiva@gmail.com\"\n",
    "d1"
   ]
  },
  {
   "cell_type": "markdown",
   "metadata": {},
   "source": [
    "d1[\"course\"]=\"python\"\n",
    "d1"
   ]
  },
  {
   "cell_type": "code",
   "execution_count": 50,
   "metadata": {},
   "outputs": [
    {
     "data": {
      "text/plain": [
       "{'name': 'kalyan', 'address': 'adoni', 'course': 'python'}"
      ]
     },
     "execution_count": 50,
     "metadata": {},
     "output_type": "execute_result"
    }
   ],
   "source": [
    "del d1[\"email\"]\n",
    "d1"
   ]
  },
  {
   "cell_type": "code",
   "execution_count": 51,
   "metadata": {},
   "outputs": [
    {
     "data": {
      "text/plain": [
       "dict_keys(['name', 'address', 'course'])"
      ]
     },
     "execution_count": 51,
     "metadata": {},
     "output_type": "execute_result"
    }
   ],
   "source": [
    "d1.keys()"
   ]
  },
  {
   "cell_type": "code",
   "execution_count": 52,
   "metadata": {},
   "outputs": [
    {
     "data": {
      "text/plain": [
       "dict_items([('name', 'kalyan'), ('address', 'adoni'), ('course', 'python')])"
      ]
     },
     "execution_count": 52,
     "metadata": {},
     "output_type": "execute_result"
    }
   ],
   "source": [
    "d1.items()"
   ]
  },
  {
   "cell_type": "code",
   "execution_count": 53,
   "metadata": {},
   "outputs": [
    {
     "data": {
      "text/plain": [
       "dict_values(['kalyan', 'adoni', 'python'])"
      ]
     },
     "execution_count": 53,
     "metadata": {},
     "output_type": "execute_result"
    }
   ],
   "source": [
    "d1.values()"
   ]
  },
  {
   "cell_type": "markdown",
   "metadata": {},
   "source": [
    "# strings"
   ]
  },
  {
   "cell_type": "code",
   "execution_count": 54,
   "metadata": {},
   "outputs": [
    {
     "name": "stdout",
     "output_type": "stream",
     "text": [
      "kalyan\n",
      "<class 'str'>\n"
     ]
    }
   ],
   "source": [
    "s1=\"kalyan\"\n",
    "print(s1)\n",
    "print(type(s1))"
   ]
  },
  {
   "cell_type": "code",
   "execution_count": 58,
   "metadata": {},
   "outputs": [
    {
     "name": "stdout",
     "output_type": "stream",
     "text": [
      "k\n",
      "n\n",
      "aly\n",
      "naylak\n",
      "lyan\n",
      "naylak\n"
     ]
    }
   ],
   "source": [
    "\n",
    "print(s1[0])\n",
    "print(s1[5])\n",
    "print(s1[1:4])\n",
    "print(s1[::-1])\n",
    "print(s1[2:])\n",
    "print(s1[-1::-1])\n",
    "\n"
   ]
  },
  {
   "cell_type": "code",
   "execution_count": 59,
   "metadata": {},
   "outputs": [
    {
     "name": "stdout",
     "output_type": "stream",
     "text": [
      "y\n",
      "ky\n"
     ]
    }
   ],
   "source": [
    "print(s1[len(s1)//2])\n",
    "print(s1[0:6:3])\n"
   ]
  },
  {
   "cell_type": "code",
   "execution_count": 61,
   "metadata": {},
   "outputs": [
    {
     "data": {
      "text/plain": [
       "'raew'"
      ]
     },
     "execution_count": 61,
     "metadata": {},
     "output_type": "execute_result"
    }
   ],
   "source": [
    "def revofstring(str):\n",
    "    rev=0\n",
    "    rev=str[::-1]\n",
    "    return rev\n",
    "revofstring(\"wear\")"
   ]
  },
  {
   "cell_type": "code",
   "execution_count": 65,
   "metadata": {},
   "outputs": [
    {
     "name": "stdout",
     "output_type": "stream",
     "text": [
      "palin\n"
     ]
    },
    {
     "data": {
      "text/plain": [
       "'dad'"
      ]
     },
     "execution_count": 65,
     "metadata": {},
     "output_type": "execute_result"
    }
   ],
   "source": [
    "def revofstring(str):\n",
    "    x=str\n",
    "    rev=0\n",
    "    rev=str[::-1]\n",
    "    if x==rev:\n",
    "        print(\"palin\")\n",
    "    else:\n",
    "        print(\"not palin\")\n",
    "    return rev\n",
    "revofstring(\"dad\")"
   ]
  },
  {
   "cell_type": "markdown",
   "metadata": {},
   "source": [
    "# String bulid-in methods\n",
    "- upper() \n",
    "- lower()\n",
    "- islower()\n",
    "- isupper()\n",
    "- istitle()\n",
    "- isnumeric()\n",
    "- isalpha()\n",
    "- isspace()"
   ]
  },
  {
   "cell_type": "code",
   "execution_count": 72,
   "metadata": {},
   "outputs": [
    {
     "name": "stdout",
     "output_type": "stream",
     "text": [
      "KALYAN\n",
      "kalyan\n",
      "False\n",
      "False\n",
      "True\n",
      "False\n",
      "True\n",
      "True\n"
     ]
    }
   ],
   "source": [
    "s1=\"Kalyan\"\n",
    "s2=\" \"\n",
    "print(s1.upper())\n",
    "print(s1.lower())\n",
    "print(s1.islower())\n",
    "print(s1.isupper())\n",
    "print(s1.istitle())\n",
    "print(s1.isnumeric())\n",
    "print(s1.isalpha())\n",
    "print(s2.isspace())"
   ]
  },
  {
   "cell_type": "markdown",
   "metadata": {},
   "source": [
    "# string methods\n",
    "- join()\n",
    "- split()\n",
    "- replace()"
   ]
  },
  {
   "cell_type": "code",
   "execution_count": 75,
   "metadata": {},
   "outputs": [
    {
     "name": "stdout",
     "output_type": "stream",
     "text": [
      "k , a , l , y , a , n ,   , i , s ,   , a ,   , t , o , p , p , e , r\n"
     ]
    }
   ],
   "source": [
    "s2=\"kalyan is a topper\"\n",
    "print(\" , \".join(s2))"
   ]
  },
  {
   "cell_type": "code",
   "execution_count": 76,
   "metadata": {},
   "outputs": [
    {
     "name": "stdout",
     "output_type": "stream",
     "text": [
      "['kalyan', 'is', 'a', 'topper']\n"
     ]
    }
   ],
   "source": [
    "print(s2.split())"
   ]
  },
  {
   "cell_type": "code",
   "execution_count": 78,
   "metadata": {},
   "outputs": [
    {
     "name": "stdout",
     "output_type": "stream",
     "text": [
      "['k', 'ly', 'n is ', ' topper']\n"
     ]
    }
   ],
   "source": [
    "print(s2.split('a'))"
   ]
  },
  {
   "cell_type": "code",
   "execution_count": 81,
   "metadata": {},
   "outputs": [
    {
     "name": "stdout",
     "output_type": "stream",
     "text": [
      "['K', 'a', 'l', 'y', 'a', 'n']\n"
     ]
    },
    {
     "data": {
      "text/plain": [
       "['K', 'a', 'l', 'y', 'a', 'n']"
      ]
     },
     "execution_count": 81,
     "metadata": {},
     "output_type": "execute_result"
    }
   ],
   "source": [
    "li=list(s1)\n",
    "print(li)\n",
    "li"
   ]
  },
  {
   "cell_type": "code",
   "execution_count": 85,
   "metadata": {},
   "outputs": [
    {
     "name": "stdout",
     "output_type": "stream",
     "text": [
      "kalyan is one and only topper\n"
     ]
    }
   ],
   "source": [
    "print(s2.replace(\" a\",\" one and only\"))"
   ]
  },
  {
   "cell_type": "code",
   "execution_count": 119,
   "metadata": {},
   "outputs": [
    {
     "name": "stdout",
     "output_type": "stream",
     "text": [
      "[80, 85, 90]\n",
      "85\n",
      "90\n",
      "[86, 90, 95]\n"
     ]
    }
   ],
   "source": [
    "m={'peter':[80,85,90],'joe':[86,90,95]}\n",
    "s1=m[\"peter\"]\n",
    "print(s1)\n",
    "print(s1[1])\n",
    "s2=m[\"joe\"]\n",
    "print(s2[1])\n",
    "print(s2[::1])"
   ]
  },
  {
   "cell_type": "code",
   "execution_count": null,
   "metadata": {},
   "outputs": [],
   "source": []
  }
 ],
 "metadata": {
  "kernelspec": {
   "display_name": "Python 3",
   "language": "python",
   "name": "python3"
  },
  "language_info": {
   "codemirror_mode": {
    "name": "ipython",
    "version": 3
   },
   "file_extension": ".py",
   "mimetype": "text/x-python",
   "name": "python",
   "nbconvert_exporter": "python",
   "pygments_lexer": "ipython3",
   "version": "3.7.3"
  }
 },
 "nbformat": 4,
 "nbformat_minor": 2
}
