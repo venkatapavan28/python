{
  "nbformat": 4,
  "nbformat_minor": 0,
  "metadata": {
    "colab": {
      "name": "24-12-19",
      "provenance": [],
      "collapsed_sections": [],
      "include_colab_link": true
    },
    "kernelspec": {
      "name": "python3",
      "display_name": "Python 3"
    }
  },
  "cells": [
    {
      "cell_type": "markdown",
      "metadata": {
        "id": "view-in-github",
        "colab_type": "text"
      },
      "source": [
        "<a href=\"https://colab.research.google.com/github/venkatapavan28/python/blob/master/24_12_19.ipynb\" target=\"_parent\"><img src=\"https://colab.research.google.com/assets/colab-badge.svg\" alt=\"Open In Colab\"/></a>"
      ]
    },
    {
      "cell_type": "code",
      "metadata": {
        "id": "wPNlpon1Bku-",
        "colab_type": "code",
        "colab": {}
      },
      "source": [
        ""
      ],
      "execution_count": 0,
      "outputs": []
    },
    {
      "cell_type": "markdown",
      "metadata": {
        "id": "9YKWVNs5DsAF",
        "colab_type": "text"
      },
      "source": [
        "#markdown\n",
        "##markdown\n",
        "####markdown\n",
        "\n",
        "######markdown\n",
        "\n",
        "\n",
        "\n"
      ]
    },
    {
      "cell_type": "markdown",
      "metadata": {
        "id": "Pt3YOJoPGiqM",
        "colab_type": "text"
      },
      "source": [
        "**python**\n",
        "!"
      ]
    },
    {
      "cell_type": "code",
      "metadata": {
        "id": "Flwhaba4EhvD",
        "colab_type": "code",
        "colab": {}
      },
      "source": [
        ""
      ],
      "execution_count": 0,
      "outputs": []
    },
    {
      "cell_type": "markdown",
      "metadata": {
        "id": "NEj_-vZSE_vd",
        "colab_type": "text"
      },
      "source": [
        "##insert image\n",
        "![text](https://image.shutterstock.com/image-photo/mountains-during-sunset-beautiful-natural-260nw-407021107.jpg"
      ]
    },
    {
      "cell_type": "markdown",
      "metadata": {
        "id": "QGWX0hlaH7rk",
        "colab_type": "text"
      },
      "source": [
        "![text](https://9to5google.com/wp-content/uploads/sites/4/2019/08/google_search_desktop_1.jpg?quality=82&strip=all&w=1600)"
      ]
    },
    {
      "cell_type": "code",
      "metadata": {
        "id": "F5pN9I_YE9eM",
        "colab_type": "code",
        "colab": {}
      },
      "source": [
        "\n"
      ],
      "execution_count": 0,
      "outputs": []
    },
    {
      "cell_type": "markdown",
      "metadata": {
        "id": "Q1nILde7Hd1l",
        "colab_type": "text"
      },
      "source": [
        "#insert site\n",
        "[site](https://www.google.com/)\n"
      ]
    },
    {
      "cell_type": "markdown",
      "metadata": {
        "id": "cJywfohmJvd0",
        "colab_type": "text"
      },
      "source": [
        "#python\n",
        "-it is easy to learn\n",
        "\n",
        "-python is more popular and demand\n",
        "\n",
        "-python is used in data science\n"
      ]
    },
    {
      "cell_type": "code",
      "metadata": {
        "id": "wlTs6jv0EC2s",
        "colab_type": "code",
        "outputId": "b8798414-6c61-454d-b403-8717372eeaff",
        "colab": {
          "base_uri": "https://localhost:8080/",
          "height": 34
        }
      },
      "source": [
        "print(\"helo world\")"
      ],
      "execution_count": 0,
      "outputs": [
        {
          "output_type": "stream",
          "text": [
            "helo world\n"
          ],
          "name": "stdout"
        }
      ]
    },
    {
      "cell_type": "code",
      "metadata": {
        "id": "3zkARtrmLJXU",
        "colab_type": "code",
        "outputId": "632951c2-fc39-4d5d-db82-b7242513600f",
        "colab": {
          "base_uri": "https://localhost:8080/",
          "height": 34
        }
      },
      "source": [
        "print(\"greater kalyan\")"
      ],
      "execution_count": 0,
      "outputs": [
        {
          "output_type": "stream",
          "text": [
            "greater kalyan\n"
          ],
          "name": "stdout"
        }
      ]
    },
    {
      "cell_type": "code",
      "metadata": {
        "id": "tbd8tnbkLSF5",
        "colab_type": "code",
        "colab": {}
      },
      "source": [
        ""
      ],
      "execution_count": 0,
      "outputs": []
    },
    {
      "cell_type": "markdown",
      "metadata": {
        "id": "qVTOhJWgLda1",
        "colab_type": "text"
      },
      "source": [
        "#assignment\n"
      ]
    },
    {
      "cell_type": "code",
      "metadata": {
        "id": "kq7r-kJnLhOF",
        "colab_type": "code",
        "outputId": "6f63c9a9-4d87-4c2b-d6bd-4b4d06957a48",
        "colab": {
          "base_uri": "https://localhost:8080/",
          "height": 34
        }
      },
      "source": [
        "x=123\n",
        "y=456\n",
        "print(x,y)"
      ],
      "execution_count": 0,
      "outputs": [
        {
          "output_type": "stream",
          "text": [
            "123 456\n"
          ],
          "name": "stdout"
        }
      ]
    },
    {
      "cell_type": "code",
      "metadata": {
        "id": "UJR1IRLOMRAn",
        "colab_type": "code",
        "outputId": "6ba37129-4322-4946-f97b-647d404388f3",
        "colab": {
          "base_uri": "https://localhost:8080/",
          "height": 34
        }
      },
      "source": [
        "a=b=v=d=80789 \n",
        "print(a,b,v,d)\n",
        "\n"
      ],
      "execution_count": 0,
      "outputs": [
        {
          "output_type": "stream",
          "text": [
            "80789 80789 80789 80789\n"
          ],
          "name": "stdout"
        }
      ]
    },
    {
      "cell_type": "code",
      "metadata": {
        "id": "LvKoOerIMakx",
        "colab_type": "code",
        "outputId": "0db38277-82f5-41e1-f677-38b0f82db948",
        "colab": {
          "base_uri": "https://localhost:8080/",
          "height": 34
        }
      },
      "source": [
        "a,b,c=2,3,5\n",
        "print(a,b,c)"
      ],
      "execution_count": 0,
      "outputs": [
        {
          "output_type": "stream",
          "text": [
            "2 3 5\n"
          ],
          "name": "stdout"
        }
      ]
    },
    {
      "cell_type": "code",
      "metadata": {
        "id": "7X8LlazYMkob",
        "colab_type": "code",
        "colab": {}
      },
      "source": [
        ""
      ],
      "execution_count": 0,
      "outputs": []
    },
    {
      "cell_type": "markdown",
      "metadata": {
        "id": "kI93KK_TM2AK",
        "colab_type": "text"
      },
      "source": [
        "#Data types and conversions\n",
        "-int\n",
        "\n",
        "-float\n",
        "\n",
        "-complex\n",
        "\n",
        "-string\n",
        "\n",
        "-boolean\n"
      ]
    },
    {
      "cell_type": "code",
      "metadata": {
        "id": "sk4gPIcvNXJ5",
        "colab_type": "code",
        "outputId": "9e421426-d240-4da5-db5b-be24521191b6",
        "colab": {
          "base_uri": "https://localhost:8080/",
          "height": 51
        }
      },
      "source": [
        "x=5.456\n",
        "y=34\n",
        "print(type(x))\n",
        "s1=str(x)gbh\n",
        "print(type(s1))\n"
      ],
      "execution_count": 0,
      "outputs": [
        {
          "output_type": "stream",
          "text": [
            "<class 'float'>\n",
            "<class 'str'>\n"
          ],
          "name": "stdout"
        }
      ]
    },
    {
      "cell_type": "code",
      "metadata": {
        "id": "iVcLSIk0NwPZ",
        "colab_type": "code",
        "outputId": "6ddf37b2-a01a-477e-f70c-ef6df25f2dd5",
        "colab": {
          "base_uri": "https://localhost:8080/",
          "height": 34
        }
      },
      "source": [
        "x=9\n",
        "y=0\n",
        "x>y"
      ],
      "execution_count": 0,
      "outputs": [
        {
          "output_type": "execute_result",
          "data": {
            "text/plain": [
              "True"
            ]
          },
          "metadata": {
            "tags": []
          },
          "execution_count": 13
        }
      ]
    },
    {
      "cell_type": "code",
      "metadata": {
        "id": "Mn1iPcgnOYxT",
        "colab_type": "code",
        "outputId": "ea7d44af-9a40-4669-ece4-22db05572586",
        "colab": {
          "base_uri": "https://localhost:8080/",
          "height": 34
        }
      },
      "source": [
        "c=complex(3,5)\n",
        "print(c)"
      ],
      "execution_count": 0,
      "outputs": [
        {
          "output_type": "stream",
          "text": [
            "(3+5j)\n"
          ],
          "name": "stdout"
        }
      ]
    },
    {
      "cell_type": "code",
      "metadata": {
        "id": "j_PMrZQ_Qw6B",
        "colab_type": "code",
        "colab": {}
      },
      "source": [
        ""
      ],
      "execution_count": 0,
      "outputs": []
    },
    {
      "cell_type": "code",
      "metadata": {
        "id": "SgW9x3LRQ8jH",
        "colab_type": "code",
        "colab": {}
      },
      "source": [
        ""
      ],
      "execution_count": 0,
      "outputs": []
    },
    {
      "cell_type": "markdown",
      "metadata": {
        "id": "r1tr6yaAQ9xw",
        "colab_type": "text"
      },
      "source": [
        "#Reading a value--input function\n"
      ]
    },
    {
      "cell_type": "code",
      "metadata": {
        "id": "CopiGfEDRJFq",
        "colab_type": "code",
        "colab": {}
      },
      "source": [
        ""
      ],
      "execution_count": 0,
      "outputs": []
    },
    {
      "cell_type": "code",
      "metadata": {
        "id": "-VwR93_QRJn_",
        "colab_type": "code",
        "outputId": "b6b204cf-a86c-4ac1-9eb5-7a3c6bac6657",
        "colab": {
          "base_uri": "https://localhost:8080/",
          "height": 51
        }
      },
      "source": [
        "s=input(\"enter\")\n",
        "print(s)"
      ],
      "execution_count": 0,
      "outputs": [
        {
          "output_type": "stream",
          "text": [
            "entertopper kalyan\n",
            "topper kalyan\n"
          ],
          "name": "stdout"
        }
      ]
    },
    {
      "cell_type": "code",
      "metadata": {
        "id": "sDRjJM3MRQ98",
        "colab_type": "code",
        "colab": {}
      },
      "source": [
        ""
      ],
      "execution_count": 0,
      "outputs": []
    },
    {
      "cell_type": "markdown",
      "metadata": {
        "id": "rCEqC5gHShUP",
        "colab_type": "text"
      },
      "source": [
        "#operators\n",
        "\n",
        "-operator is a symbol is used to petrform a specific kind of operations.\n",
        "\n",
        "#arithematic operators\n",
        "\n",
        "- +\n",
        "\n",
        "- -\n",
        "-*\n",
        "-%\n",
        "-/\n",
        "-**\n",
        "-//\n"
      ]
    },
    {
      "cell_type": "markdown",
      "metadata": {
        "id": "m_4pEAmKTTi_",
        "colab_type": "text"
      },
      "source": [
        ""
      ]
    },
    {
      "cell_type": "code",
      "metadata": {
        "id": "08glc3OpTq0f",
        "colab_type": "code",
        "outputId": "aef50e75-366a-4a1a-b77b-05ece24cf189",
        "colab": {
          "base_uri": "https://localhost:8080/",
          "height": 85
        }
      },
      "source": [
        "n1=1234\n",
        "print(n1+10)\n",
        "print(n1-10)\n",
        "print(n1//12)\n",
        "print(n1**12)"
      ],
      "execution_count": 0,
      "outputs": [
        {
          "output_type": "stream",
          "text": [
            "1244\n",
            "1224\n",
            "102\n",
            "12467572902176589255564000298710470656\n"
          ],
          "name": "stdout"
        }
      ]
    },
    {
      "cell_type": "code",
      "metadata": {
        "id": "oDRCPNAASgBk",
        "colab_type": "code",
        "colab": {}
      },
      "source": [
        ""
      ],
      "execution_count": 0,
      "outputs": []
    },
    {
      "cell_type": "markdown",
      "metadata": {
        "id": "zYN5yuh5UL6F",
        "colab_type": "text"
      },
      "source": [
        "#precedence of arth operators\n",
        "- parenthesis\n",
        "- power\n",
        "- multiplication\n",
        "- addition\n"
      ]
    },
    {
      "cell_type": "code",
      "metadata": {
        "id": "waLaO5AhUbmR",
        "colab_type": "code",
        "colab": {}
      },
      "source": [
        "C"
      ],
      "execution_count": 0,
      "outputs": []
    },
    {
      "cell_type": "code",
      "metadata": {
        "id": "m-WGVSYuU5s-",
        "colab_type": "code",
        "outputId": "070e79b6-9f16-421c-eb04-3991ca713727",
        "colab": {
          "base_uri": "https://localhost:8080/",
          "height": 34
        }
      },
      "source": [
        "x=1+2**3/4+5\n",
        "print(x)"
      ],
      "execution_count": 0,
      "outputs": [
        {
          "output_type": "stream",
          "text": [
            "8.0\n"
          ],
          "name": "stdout"
        }
      ]
    },
    {
      "cell_type": "markdown",
      "metadata": {
        "id": "2YzlemFgMaKm",
        "colab_type": "text"
      },
      "source": [
        ""
      ]
    },
    {
      "cell_type": "code",
      "metadata": {
        "id": "hS_HpnlaV5V_",
        "colab_type": "code",
        "outputId": "d0836897-ad42-4a11-8be7-b6edf5f5031e",
        "colab": {
          "base_uri": "https://localhost:8080/",
          "height": 34
        }
      },
      "source": [
        "x=1+2**3/4*5\n",
        "print(x)"
      ],
      "execution_count": 0,
      "outputs": [
        {
          "output_type": "stream",
          "text": [
            "11.0\n"
          ],
          "name": "stdout"
        }
      ]
    },
    {
      "cell_type": "code",
      "metadata": {
        "id": "HBDFTKGHV_qb",
        "colab_type": "code",
        "outputId": "3607b670-0248-4487-f854-6f276cb0d4d9",
        "colab": {
          "base_uri": "https://localhost:8080/",
          "height": 34
        }
      },
      "source": [
        "x=3*4%8*(4%8**7)\n",
        "print(x)"
      ],
      "execution_count": 0,
      "outputs": [
        {
          "output_type": "stream",
          "text": [
            "16\n"
          ],
          "name": "stdout"
        }
      ]
    },
    {
      "cell_type": "code",
      "metadata": {
        "id": "-HqOovwNWwCd",
        "colab_type": "code",
        "colab": {}
      },
      "source": [
        ""
      ],
      "execution_count": 0,
      "outputs": []
    },
    {
      "cell_type": "markdown",
      "metadata": {
        "id": "RIuCC1OkW6tA",
        "colab_type": "text"
      },
      "source": [
        "#Relational operators\n",
        "- ==,!=,<,>,<=,>=\n"
      ]
    },
    {
      "cell_type": "code",
      "metadata": {
        "id": "mZL4T4xxXZJb",
        "colab_type": "code",
        "outputId": "4c44ae1d-fa9f-4bad-a88e-a0499c4a3bbc",
        "colab": {
          "base_uri": "https://localhost:8080/",
          "height": 34
        }
      },
      "source": [
        "2!=3"
      ],
      "execution_count": 0,
      "outputs": [
        {
          "output_type": "execute_result",
          "data": {
            "text/plain": [
              "True"
            ]
          },
          "metadata": {
            "tags": []
          },
          "execution_count": 22
        }
      ]
    },
    {
      "cell_type": "code",
      "metadata": {
        "id": "acai9_9eXdj6",
        "colab_type": "code",
        "colab": {}
      },
      "source": [
        "|"
      ],
      "execution_count": 0,
      "outputs": []
    },
    {
      "cell_type": "markdown",
      "metadata": {
        "id": "fUn6WWkzX3hm",
        "colab_type": "text"
      },
      "source": [
        "#logical operators\n",
        "- and\n",
        "- or\n",
        "- not"
      ]
    },
    {
      "cell_type": "code",
      "metadata": {
        "id": "qho2N55AX7i8",
        "colab_type": "code",
        "outputId": "7abd92cc-9de0-4db8-d59b-b22605c46138",
        "colab": {
          "base_uri": "https://localhost:8080/",
          "height": 68
        }
      },
      "source": [
        "x=9\n",
        "y=9898\n",
        "print(x<34 and y<=888988)\n",
        "print(x<100 or y<=10000)\n",
        "print(not x<20)"
      ],
      "execution_count": 0,
      "outputs": [
        {
          "output_type": "stream",
          "text": [
            "True\n",
            "True\n",
            "False\n"
          ],
          "name": "stdout"
        }
      ]
    },
    {
      "cell_type": "code",
      "metadata": {
        "id": "KT-wTxYmYr65",
        "colab_type": "code",
        "colab": {}
      },
      "source": [
        ""
      ],
      "execution_count": 0,
      "outputs": []
    },
    {
      "cell_type": "markdown",
      "metadata": {
        "id": "0l7ZDnt_Y6nB",
        "colab_type": "text"
      },
      "source": [
        "#membership operators\n"
      ]
    },
    {
      "cell_type": "code",
      "metadata": {
        "id": "N4c5DQ94ZCPR",
        "colab_type": "code",
        "outputId": "396c6b02-cb63-4df7-a1eb-4a2a23248394",
        "colab": {
          "base_uri": "https://localhost:8080/",
          "height": 51
        }
      },
      "source": [
        "s=\"abc\"\n",
        "print('a' in s)\n",
        "print('a' not in s)"
      ],
      "execution_count": 0,
      "outputs": [
        {
          "output_type": "stream",
          "text": [
            "True\n",
            "False\n"
          ],
          "name": "stdout"
        }
      ]
    },
    {
      "cell_type": "code",
      "metadata": {
        "id": "s7Q2SmGfZGhN",
        "colab_type": "code",
        "colab": {}
      },
      "source": [
        ""
      ],
      "execution_count": 0,
      "outputs": []
    },
    {
      "cell_type": "code",
      "metadata": {
        "id": "AhbFdG67aJ1L",
        "colab_type": "code",
        "colab": {}
      },
      "source": [
        ""
      ],
      "execution_count": 0,
      "outputs": []
    },
    {
      "cell_type": "markdown",
      "metadata": {
        "id": "IDYvoCWEaOtJ",
        "colab_type": "text"
      },
      "source": [
        "#conditional operators\n",
        "##if-else satements\n",
        "####syntax:\n",
        "######if condition:\n",
        ">statements<br>\n",
        "######else:\n",
        ">statements"
      ]
    },
    {
      "cell_type": "code",
      "metadata": {
        "id": "HigFzGkkaldr",
        "colab_type": "code",
        "outputId": "4c14c514-de51-4af3-a461-d4244f37a86a",
        "colab": {
          "base_uri": "https://localhost:8080/",
          "height": 34
        }
      },
      "source": [
        "x=109\n",
        "y=123\n",
        "if(x>y):\n",
        "  print(\"x is greater\")\n",
        "else :\n",
        "  print(\"y is greater\")"
      ],
      "execution_count": 0,
      "outputs": [
        {
          "output_type": "stream",
          "text": [
            "y is greater\n"
          ],
          "name": "stdout"
        }
      ]
    },
    {
      "cell_type": "code",
      "metadata": {
        "id": "S_Hcxpbva3Mj",
        "colab_type": "code",
        "outputId": "e151f062-3693-469e-e5ec-5463fdf2d1aa",
        "colab": {
          "base_uri": "https://localhost:8080/",
          "height": 51
        }
      },
      "source": [
        "n=int(input(\"enter a number\"))\n",
        "if n%2==0:\n",
        "  print(\"even no\")\n",
        "else:\n",
        "  print(\"odd no\")"
      ],
      "execution_count": 0,
      "outputs": [
        {
          "output_type": "stream",
          "text": [
            "enter a number24\n",
            "even no\n"
          ],
          "name": "stdout"
        }
      ]
    },
    {
      "cell_type": "markdown",
      "metadata": {
        "id": "hhjK1B9ybu6B",
        "colab_type": "text"
      },
      "source": [
        "#check given no is perfectly multiple of 3 and 5"
      ]
    },
    {
      "cell_type": "code",
      "metadata": {
        "id": "7AvarQtFbK97",
        "colab_type": "code",
        "outputId": "2c38087c-db08-414d-cf67-a2d89d0577fe",
        "colab": {
          "base_uri": "https://localhost:8080/",
          "height": 51
        }
      },
      "source": [
        "n=int(input(\"enter a number\"))\n",
        "if n%3==0 and n%5==0:\n",
        "  print(\"multiple of 3 and 5\")\n",
        "else:\n",
        "  print(\"not multiple of 3 and 5\")"
      ],
      "execution_count": 0,
      "outputs": [
        {
          "output_type": "stream",
          "text": [
            "enter a number15\n",
            "multiple of 3 and 5\n"
          ],
          "name": "stdout"
        }
      ]
    },
    {
      "cell_type": "code",
      "metadata": {
        "id": "rxw-SNprcIcM",
        "colab_type": "code",
        "colab": {}
      },
      "source": [
        "\n"
      ],
      "execution_count": 0,
      "outputs": []
    },
    {
      "cell_type": "markdown",
      "metadata": {
        "id": "EtCq4VDyc_ga",
        "colab_type": "text"
      },
      "source": [
        "#check given no is positive ,negitive,zero\n"
      ]
    },
    {
      "cell_type": "code",
      "metadata": {
        "id": "sdXwayUXdFzI",
        "colab_type": "code",
        "outputId": "ae045820-60c3-4382-b290-f8caa82ecff1",
        "colab": {
          "base_uri": "https://localhost:8080/",
          "height": 51
        }
      },
      "source": [
        "n=int(input(\"enter a no\"))\n",
        "if n>0:\n",
        "  print(\"+ve\")\n",
        "elif n<0:\n",
        "  print(\"-ve\")\n",
        "else:\n",
        "  print(\"zero\")"
      ],
      "execution_count": 0,
      "outputs": [
        {
          "output_type": "stream",
          "text": [
            "enter a no-23\n",
            "-ve\n"
          ],
          "name": "stdout"
        }
      ]
    },
    {
      "cell_type": "code",
      "metadata": {
        "id": "mU_mcOttddmz",
        "colab_type": "code",
        "outputId": "845accf1-da54-4830-9bbb-fdac2991754c",
        "colab": {
          "base_uri": "https://localhost:8080/",
          "height": 51
        }
      },
      "source": [
        "n=int(input(\"enter a no\"))\n",
        "if (n%4==0 or n%100!=0) or n%400==0:\n",
        "  print(\"leap year\")\n",
        "else:\n",
        "  print(\"not\")"
      ],
      "execution_count": 0,
      "outputs": [
        {
          "output_type": "stream",
          "text": [
            "enter a no2000\n",
            "leap year\n"
          ],
          "name": "stdout"
        }
      ]
    },
    {
      "cell_type": "code",
      "metadata": {
        "id": "z19Ux-l9eDaU",
        "colab_type": "code",
        "outputId": "9915f244-603e-4675-8244-786e9901c977",
        "colab": {
          "base_uri": "https://localhost:8080/",
          "height": 34
        }
      },
      "source": [
        "x=9**3+2*9**2+3*9-10\n",
        "print(x)"
      ],
      "execution_count": 0,
      "outputs": [
        {
          "output_type": "stream",
          "text": [
            "908\n"
          ],
          "name": "stdout"
        }
      ]
    },
    {
      "cell_type": "code",
      "metadata": {
        "id": "sXRW3aHyilEm",
        "colab_type": "code",
        "colab": {}
      },
      "source": [
        ""
      ],
      "execution_count": 0,
      "outputs": []
    }
  ]
}